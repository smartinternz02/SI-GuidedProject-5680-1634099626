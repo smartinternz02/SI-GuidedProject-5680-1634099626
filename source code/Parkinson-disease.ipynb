{
 "cells": [
  {
   "cell_type": "code",
   "execution_count": 1,
   "id": "dfe0ffd2",
   "metadata": {},
   "outputs": [],
   "source": [
    "from sklearn.ensemble import RandomForestClassifier\n",
    "from sklearn.preprocessing import LabelEncoder\n",
    "from sklearn.metrics import confusion_matrix\n",
    "from skimage import feature\n",
    "from imutils import build_montages\n",
    "from imutils import paths\n",
    "import numpy as np\n",
    "import cv2\n",
    "import os\n",
    "import pickle    #importing the pickle file\n"
   ]
  },
  {
   "cell_type": "code",
   "execution_count": 2,
   "id": "5c694588",
   "metadata": {},
   "outputs": [],
   "source": [
    "def quantify_image(image):\n",
    "\t# compute the histogram of oriented gradients feature vector for\n",
    "\t# the input image\n",
    "\tfeatures = feature.hog(image, orientations=9,\n",
    "\t\tpixels_per_cell=(10, 10), cells_per_block=(2, 2),\n",
    "\t\ttransform_sqrt=True, block_norm=\"L1\")\n",
    "\n",
    "\t# return the feature vector\n",
    "\treturn features"
   ]
  },
  {
   "cell_type": "code",
   "execution_count": 3,
   "id": "738a0b5b",
   "metadata": {},
   "outputs": [],
   "source": [
    "def load_split(path):\n",
    "\t# grab the list of images in the input directory, then initialize\n",
    "\t# the list of data (i.e., images) and class labels\n",
    "\timagePaths = list(paths.list_images(path))\n",
    "\tdata = []\n",
    "\tlabels = []\n",
    "\n",
    "\t# loop over the image paths\n",
    "\tfor imagePath in imagePaths:\n",
    "\t\t# extract the class label from the filename\n",
    "\t\tlabel = imagePath.split(os.path.sep)[-2]\n",
    "\n",
    "\t\t# load the input image, convert it to grayscale, and resize\n",
    "\t\t# it to 200x200 pixels, ignoring aspect ratio\n",
    "\t\timage = cv2.imread(imagePath)\n",
    "\t\timage = cv2.cvtColor(image, cv2.COLOR_BGR2GRAY)\n",
    "\t\timage = cv2.resize(image, (200, 200))\n",
    "\n",
    "\t\t# threshold the image such that the drawing appears as white\n",
    "\t\t# on a black background\n",
    "\t\timage = cv2.threshold(image, 0, 255,\n",
    "\t\t\tcv2.THRESH_BINARY_INV | cv2.THRESH_OTSU)[1]\n",
    "\n",
    "\t\t# quantify the image\n",
    "\t\tfeatures = quantify_image(image)\n",
    "\n",
    "\t\t# update the data and labels lists, respectively\n",
    "\t\tdata.append(features)\n",
    "\t\tlabels.append(label)\n",
    "\n",
    "\t# return the data and labels\n",
    "\treturn (np.array(data), np.array(labels))\n"
   ]
  },
  {
   "cell_type": "code",
   "execution_count": 4,
   "id": "4b77d427",
   "metadata": {},
   "outputs": [
    {
     "name": "stdout",
     "output_type": "stream",
     "text": [
      "[INFO] loading data...\n"
     ]
    }
   ],
   "source": [
    "# define the path to the training and testing directories\n",
    "trainingPath = r\"C:\\Users\\Laya\\Downloads\\dataset-20211026T065758Z-001\\dataset\\spiral\\training\"\n",
    "testingPath = r\"C:\\Users\\Laya\\Downloads\\dataset-20211026T065758Z-001\\dataset\\spiral\\testing\"\n",
    "\n",
    "# loading the training and testing data\n",
    "print(\"[INFO] loading data...\")\n",
    "(X_train, y_train) = load_split(trainingPath)\n",
    "(X_test, y_test) = load_split(testingPath)\n"
   ]
  },
  {
   "cell_type": "code",
   "execution_count": 5,
   "id": "526c9905",
   "metadata": {},
   "outputs": [
    {
     "name": "stdout",
     "output_type": "stream",
     "text": [
      "(72, 12996) (72,)\n"
     ]
    }
   ],
   "source": [
    "# encode the labels as integers\n",
    "le = LabelEncoder()\n",
    "y_train = le.fit_transform(y_train)\n",
    "y_test = le.transform(y_test)\n",
    "print(X_train.shape,y_train.shape)\n"
   ]
  },
  {
   "cell_type": "code",
   "execution_count": 6,
   "id": "1b32dc59",
   "metadata": {},
   "outputs": [
    {
     "name": "stdout",
     "output_type": "stream",
     "text": [
      "[INFO] training model\n"
     ]
    }
   ],
   "source": [
    "# Train the model using random forest classifier\n",
    "\n",
    "print(\"[INFO] training model\")\n",
    "model = RandomForestClassifier(n_estimators=100)\n",
    "model.fit(X_train, y_train)\n",
    "pickle.dump(model,open('parkinson.pkl','wb')) \n"
   ]
  },
  {
   "cell_type": "code",
   "execution_count": 7,
   "id": "dc6dc9f9",
   "metadata": {},
   "outputs": [
    {
     "name": "stdout",
     "output_type": "stream",
     "text": [
      "[13  2  3 12]\n",
      "0.8333333333333334\n"
     ]
    }
   ],
   "source": [
    "\t# make predictions on the testing data \n",
    "predictions = model.predict(X_test)\n",
    "\t# compute the confusion matrix and and use it to derive the raw\n",
    "\t# accuracy\n",
    "cm = confusion_matrix(y_test, predictions).flatten()\n",
    "print(cm)\n",
    "(tn, fp, fn, tp) = cm\n",
    "accuracy = (tp + tn) / float(cm.sum())\n",
    "print(accuracy)"
   ]
  },
  {
   "cell_type": "code",
   "execution_count": 8,
   "id": "8e4e3609",
   "metadata": {},
   "outputs": [],
   "source": [
    "# randomly select a few images and then initialize the output images\n",
    "# for the montage\n",
    "testingPaths = list(paths.list_images(testingPath))\n",
    "idxs = np.arange(0, len(testingPaths))\n",
    "idxs = np.random.choice(idxs, size=(25,), replace=False)\n",
    "images = []"
   ]
  },
  {
   "cell_type": "code",
   "execution_count": 9,
   "id": "3c85df85",
   "metadata": {},
   "outputs": [],
   "source": [
    "# loop over the testing samples\n",
    "for i in idxs:\n",
    "\t# load the testing image, clone it, and resize it\n",
    "\timage = cv2.imread(testingPaths[i])\n",
    "\toutput = image.copy()\n",
    "\toutput = cv2.resize(output, (128, 128))\n",
    "\n",
    "\t# pre-process the image in the same manner we did earlier\n",
    "\timage = cv2.cvtColor(image, cv2.COLOR_BGR2GRAY)\n",
    "\timage = cv2.resize(image, (200, 200))\n",
    "\timage = cv2.threshold(image, 0, 255,\n",
    "\t\tcv2.THRESH_BINARY_INV | cv2.THRESH_OTSU)[1]\n",
    "\n",
    "\t# quantify the image and make predictions based on the extracted\n",
    "\t# features using the last trained Random Forest\n",
    "\tfeatures = quantify_image(image)\n",
    "\tpreds = model.predict([features])\n",
    "    \n",
    "\tlabel = le.inverse_transform(preds)[0]\n",
    "\n",
    "\t# draw the colored class label on the output image and add it to\n",
    "\t# the set of output images\n",
    "\tcolor = (0, 255, 0) if label == \"healthy\" else (0, 0, 255)\n",
    "\tcv2.putText(output, label, (3, 20), cv2.FONT_HERSHEY_SIMPLEX, 0.5,\n",
    "\t\tcolor, 2)\n",
    "\timages.append(output)\n"
   ]
  },
  {
   "cell_type": "code",
   "execution_count": 10,
   "id": "f8393e54",
   "metadata": {},
   "outputs": [],
   "source": [
    "# create a montage using 128x128 \"tiles\" with 5 rows and 5 columns\n",
    "montage = build_montages(images, (128, 128), (5, 5))[0]\n"
   ]
  },
  {
   "cell_type": "code",
   "execution_count": 11,
   "id": "f841c81b",
   "metadata": {},
   "outputs": [
    {
     "data": {
      "text/plain": [
       "-1"
      ]
     },
     "execution_count": 11,
     "metadata": {},
     "output_type": "execute_result"
    }
   ],
   "source": [
    "# show the output montage\n",
    "cv2.imshow(\"Output\", montage)\n",
    "cv2.waitKey(0)"
   ]
  },
  {
   "cell_type": "code",
   "execution_count": 12,
   "id": "73838fa9",
   "metadata": {},
   "outputs": [
    {
     "name": "stdout",
     "output_type": "stream",
     "text": [
      "[13  2  3 12]\n",
      "0.8333333333333334\n"
     ]
    }
   ],
   "source": [
    "#model evaluation \n",
    "predictions = model.predict(X_test)\n",
    "cm = confusion_matrix(y_test,predictions).flatten()\n",
    "print(cm)\n",
    "(tn, fp, fn, tp)= cm\n",
    "accuracy = (tp+tn) / float(cm.sum())\n",
    "print(accuracy)"
   ]
  },
  {
   "cell_type": "code",
   "execution_count": 13,
   "id": "04ba35bc",
   "metadata": {},
   "outputs": [],
   "source": [
    "pickle.dump(model,open('parkinson.pkl','wb'))"
   ]
  },
  {
   "cell_type": "code",
   "execution_count": null,
   "id": "62f25f8c",
   "metadata": {},
   "outputs": [],
   "source": []
  }
 ],
 "metadata": {
  "kernelspec": {
   "display_name": "Python 3",
   "language": "python",
   "name": "python3"
  },
  "language_info": {
   "codemirror_mode": {
    "name": "ipython",
    "version": 3
   },
   "file_extension": ".py",
   "mimetype": "text/x-python",
   "name": "python",
   "nbconvert_exporter": "python",
   "pygments_lexer": "ipython3",
   "version": "3.8.8"
  }
 },
 "nbformat": 4,
 "nbformat_minor": 5
}
